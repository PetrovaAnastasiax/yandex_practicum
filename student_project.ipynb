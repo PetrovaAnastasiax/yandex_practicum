{
 "cells": [
  {
   "cell_type": "markdown",
   "metadata": {},
   "source": [
    "Добрый день! Меня зовут Анастасия, я ваш ревьюер, рада знакомству. Посмотрела ваше решение задачи по подсчету частоты встречаемости названия жанра и хотела дать несколько комментариев.\n",
    "\n",
    "Ваше решение:"
   ]
  },
  {
   "cell_type": "code",
   "execution_count": 1,
   "metadata": {},
   "outputs": [],
   "source": [
    "def find_genre(name):\n",
    "    count = 0\n",
    "    for a in name_genres:\n",
    "        if a == name:\n",
    "            count+=1\n",
    "            return count\n",
    "    print(count)"
   ]
  },
  {
   "cell_type": "markdown",
   "metadata": {},
   "source": [
    "Оператор return в цикле используется для возвращения результата функции и выхода из нее. Соответственно, если оставить return внутри цикла if, при первом вхождении в него цикл завершится и функция всегда будет выдавать 0, если name нет в name_genres и 1, если есть, в не зависимости от числа встречаний name. \n",
    "\n",
    "Пример:"
   ]
  },
  {
   "cell_type": "code",
   "execution_count": 2,
   "metadata": {},
   "outputs": [],
   "source": [
    "name_genres =['hip', 'hop', 'hip-hop', 'hip', 'hop']"
   ]
  },
  {
   "cell_type": "code",
   "execution_count": 3,
   "metadata": {},
   "outputs": [
    {
     "data": {
      "text/plain": [
       "1"
      ]
     },
     "execution_count": 3,
     "metadata": {},
     "output_type": "execute_result"
    }
   ],
   "source": [
    "find_genre('hip')"
   ]
  },
  {
   "cell_type": "markdown",
   "metadata": {},
   "source": [
    "Return нужно подвинуть на уровень с началом цикла for, где вы итерируетесь по элементам name_genres, тогда функция будет возвращать count после прохождения всех элементов массива."
   ]
  },
  {
   "cell_type": "code",
   "execution_count": 4,
   "metadata": {},
   "outputs": [],
   "source": [
    "def find_genre(name):\n",
    "    count = 0\n",
    "    for a in name_genres:\n",
    "        if a == name:\n",
    "            count+=1\n",
    "    return count\n",
    "    print(count)"
   ]
  },
  {
   "cell_type": "markdown",
   "metadata": {},
   "source": [
    "print(count) в таком случае не требуется, так как результат функции вы уже задали с помощью return count."
   ]
  },
  {
   "cell_type": "code",
   "execution_count": 5,
   "metadata": {},
   "outputs": [],
   "source": [
    "def find_genre(name):\n",
    "    count = 0\n",
    "    for a in name_genres:\n",
    "        if a == name:\n",
    "            count+=1\n",
    "    return count"
   ]
  },
  {
   "cell_type": "code",
   "execution_count": 6,
   "metadata": {},
   "outputs": [],
   "source": [
    "name_genres =['hip', 'hop', 'hip-hop', 'hip', 'hop']"
   ]
  },
  {
   "cell_type": "code",
   "execution_count": 7,
   "metadata": {},
   "outputs": [
    {
     "data": {
      "text/plain": [
       "2"
      ]
     },
     "execution_count": 7,
     "metadata": {},
     "output_type": "execute_result"
    }
   ],
   "source": [
    "find_genre('hip')"
   ]
  },
  {
   "cell_type": "markdown",
   "metadata": {},
   "source": [
    "Видим, что теперь функция отрабатывает корректно :)"
   ]
  },
  {
   "cell_type": "code",
   "execution_count": null,
   "metadata": {},
   "outputs": [],
   "source": []
  }
 ],
 "metadata": {
  "kernelspec": {
   "display_name": "Python 3",
   "language": "python",
   "name": "python3"
  },
  "language_info": {
   "codemirror_mode": {
    "name": "ipython",
    "version": 3
   },
   "file_extension": ".py",
   "mimetype": "text/x-python",
   "name": "python",
   "nbconvert_exporter": "python",
   "pygments_lexer": "ipython3",
   "version": "3.8.5"
  }
 },
 "nbformat": 4,
 "nbformat_minor": 4
}
